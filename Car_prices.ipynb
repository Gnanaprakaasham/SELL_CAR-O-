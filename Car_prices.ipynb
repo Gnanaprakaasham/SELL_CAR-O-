{ NAME: Gnanaprakaasham S 
 "cells": [
  {
   "cell_type": "markdown",
   "metadata": {},
   "source": [
    "**Car dataset price prediction from kaggle**"
   ]
  },
  {
   "cell_type": "code",
   "execution_count": 138,
   "metadata": {},
   "outputs": [],
   "source": [
    "import pandas as pd#numerical computations library\n"
   ]
  },
  {
   "cell_type": "code",
   "execution_count": 139,
   "metadata": {},
   "outputs": [],
   "source": [
    "df = pd.read_csv(\"car data.csv\")#read the data"
   ]
  },
  {
   "cell_type": "code",
   "execution_count": 140,
   "metadata": {},
   "outputs": [
    {
     "data": {
      "text/html": [
       "<div>\n",
       "<style scoped>\n",
       "    .dataframe tbody tr th:only-of-type {\n",
       "        vertical-align: middle;\n",
       "    }\n",
       "\n",
       "    .dataframe tbody tr th {\n",
       "        vertical-align: top;\n",
       "    }\n",
       "\n",
       "    .dataframe thead th {\n",
       "        text-align: right;\n",
       "    }\n",
       "</style>\n",
       "<table border=\"1\" class=\"dataframe\">\n",
       "  <thead>\n",
       "    <tr style=\"text-align: right;\">\n",
       "      <th></th>\n",
       "      <th>Car_Name</th>\n",
       "      <th>Year</th>\n",
       "      <th>Selling_Price</th>\n",
       "      <th>Present_Price</th>\n",
       "      <th>Kms_Driven</th>\n",
       "      <th>Fuel_Type</th>\n",
       "      <th>Seller_Type</th>\n",
       "      <th>Transmission</th>\n",
       "      <th>Owner</th>\n",
       "    </tr>\n",
       "  </thead>\n",
       "  <tbody>\n",
       "    <tr>\n",
       "      <th>0</th>\n",
       "      <td>ritz</td>\n",
       "      <td>2014</td>\n",
       "      <td>3.35</td>\n",
       "      <td>5.59</td>\n",
       "      <td>27000</td>\n",
       "      <td>Petrol</td>\n",
       "      <td>Dealer</td>\n",
       "      <td>Manual</td>\n",
       "      <td>0</td>\n",
       "    </tr>\n",
       "    <tr>\n",
       "      <th>1</th>\n",
       "      <td>sx4</td>\n",
       "      <td>2013</td>\n",
       "      <td>4.75</td>\n",
       "      <td>9.54</td>\n",
       "      <td>43000</td>\n",
       "      <td>Diesel</td>\n",
       "      <td>Dealer</td>\n",
       "      <td>Manual</td>\n",
       "      <td>0</td>\n",
       "    </tr>\n",
       "    <tr>\n",
       "      <th>2</th>\n",
       "      <td>ciaz</td>\n",
       "      <td>2017</td>\n",
       "      <td>7.25</td>\n",
       "      <td>9.85</td>\n",
       "      <td>6900</td>\n",
       "      <td>Petrol</td>\n",
       "      <td>Dealer</td>\n",
       "      <td>Manual</td>\n",
       "      <td>0</td>\n",
       "    </tr>\n",
       "    <tr>\n",
       "      <th>3</th>\n",
       "      <td>wagon r</td>\n",
       "      <td>2011</td>\n",
       "      <td>2.85</td>\n",
       "      <td>4.15</td>\n",
       "      <td>5200</td>\n",
       "      <td>Petrol</td>\n",
       "      <td>Dealer</td>\n",
       "      <td>Manual</td>\n",
       "      <td>0</td>\n",
       "    </tr>\n",
       "    <tr>\n",
       "      <th>4</th>\n",
       "      <td>swift</td>\n",
       "      <td>2014</td>\n",
       "      <td>4.60</td>\n",
       "      <td>6.87</td>\n",
       "      <td>42450</td>\n",
       "      <td>Diesel</td>\n",
       "      <td>Dealer</td>\n",
       "      <td>Manual</td>\n",
       "      <td>0</td>\n",
       "    </tr>\n",
       "  </tbody>\n",
       "</table>\n",
       "</div>"
      ],
      "text/plain": [
       "  Car_Name  Year  Selling_Price  Present_Price  Kms_Driven Fuel_Type  \\\n",
       "0     ritz  2014           3.35           5.59       27000    Petrol   \n",
       "1      sx4  2013           4.75           9.54       43000    Diesel   \n",
       "2     ciaz  2017           7.25           9.85        6900    Petrol   \n",
       "3  wagon r  2011           2.85           4.15        5200    Petrol   \n",
       "4    swift  2014           4.60           6.87       42450    Diesel   \n",
       "\n",
       "  Seller_Type Transmission  Owner  \n",
       "0      Dealer       Manual      0  \n",
       "1      Dealer       Manual      0  \n",
       "2      Dealer       Manual      0  \n",
       "3      Dealer       Manual      0  \n",
       "4      Dealer       Manual      0  "
      ]
     },
     "execution_count": 140,
     "metadata": {},
     "output_type": "execute_result"
    }
   ],
   "source": [
    "df.head()#shows first 5 rows of dataset"
   ]
  },
  {
   "cell_type": "code",
   "execution_count": 141,
   "metadata": {},
   "outputs": [
    {
     "data": {
      "text/plain": [
       "(301, 9)"
      ]
     },
     "execution_count": 141,
     "metadata": {},
     "output_type": "execute_result"
    }
   ],
   "source": [
    "df.shape#shows shape of the entire dataset"
   ]
  },
  {
   "cell_type": "markdown",
   "metadata": {},
   "source": [
    "**In the above dataset observation, features like Fuel_Type\tand Seller_Type,Transmission,Owner are categorical**"
   ]
  },
  {
   "cell_type": "code",
   "execution_count": 142,
   "metadata": {},
   "outputs": [
    {
     "name": "stdout",
     "output_type": "stream",
     "text": [
      "['Dealer' 'Individual']\n",
      "['Manual' 'Automatic']\n",
      "[0 1 3]\n",
      "['Petrol' 'Diesel' 'CNG']\n"
     ]
    }
   ],
   "source": [
    "print(df['Seller_Type'].unique())#seeing unique values in seller type\n",
    "print(df['Transmission'].unique())#seeing unique values in transmission\n",
    "print(df['Owner'].unique())#seeing unique values in owner\n",
    "print(df['Fuel_Type'].unique())"
   ]
  },
  {
   "cell_type": "markdown",
   "metadata": {},
   "source": [
    "**Missing values findings**"
   ]
  },
  {
   "cell_type": "code",
   "execution_count": 143,
   "metadata": {},
   "outputs": [
    {
     "data": {
      "text/plain": [
       "Car_Name         0\n",
       "Year             0\n",
       "Selling_Price    0\n",
       "Present_Price    0\n",
       "Kms_Driven       0\n",
       "Fuel_Type        0\n",
       "Seller_Type      0\n",
       "Transmission     0\n",
       "Owner            0\n",
       "dtype: int64"
      ]
     },
     "execution_count": 143,
     "metadata": {},
     "output_type": "execute_result"
    }
   ],
   "source": [
    "df.isnull().sum()"
   ]
  },
  {
   "cell_type": "markdown",
   "metadata": {},
   "source": [
    "**shows that No missing values in this dataset**"
   ]
  },
  {
   "cell_type": "code",
   "execution_count": 144,
   "metadata": {},
   "outputs": [
    {
     "data": {
      "text/html": [
       "<div>\n",
       "<style scoped>\n",
       "    .dataframe tbody tr th:only-of-type {\n",
       "        vertical-align: middle;\n",
       "    }\n",
       "\n",
       "    .dataframe tbody tr th {\n",
       "        vertical-align: top;\n",
       "    }\n",
       "\n",
       "    .dataframe thead th {\n",
       "        text-align: right;\n",
       "    }\n",
       "</style>\n",
       "<table border=\"1\" class=\"dataframe\">\n",
       "  <thead>\n",
       "    <tr style=\"text-align: right;\">\n",
       "      <th></th>\n",
       "      <th>Year</th>\n",
       "      <th>Selling_Price</th>\n",
       "      <th>Present_Price</th>\n",
       "      <th>Kms_Driven</th>\n",
       "      <th>Owner</th>\n",
       "    </tr>\n",
       "  </thead>\n",
       "  <tbody>\n",
       "    <tr>\n",
       "      <th>count</th>\n",
       "      <td>301.000000</td>\n",
       "      <td>301.000000</td>\n",
       "      <td>301.000000</td>\n",
       "      <td>301.000000</td>\n",
       "      <td>301.000000</td>\n",
       "    </tr>\n",
       "    <tr>\n",
       "      <th>mean</th>\n",
       "      <td>2013.627907</td>\n",
       "      <td>4.661296</td>\n",
       "      <td>7.628472</td>\n",
       "      <td>36947.205980</td>\n",
       "      <td>0.043189</td>\n",
       "    </tr>\n",
       "    <tr>\n",
       "      <th>std</th>\n",
       "      <td>2.891554</td>\n",
       "      <td>5.082812</td>\n",
       "      <td>8.644115</td>\n",
       "      <td>38886.883882</td>\n",
       "      <td>0.247915</td>\n",
       "    </tr>\n",
       "    <tr>\n",
       "      <th>min</th>\n",
       "      <td>2003.000000</td>\n",
       "      <td>0.100000</td>\n",
       "      <td>0.320000</td>\n",
       "      <td>500.000000</td>\n",
       "      <td>0.000000</td>\n",
       "    </tr>\n",
       "    <tr>\n",
       "      <th>25%</th>\n",
       "      <td>2012.000000</td>\n",
       "      <td>0.900000</td>\n",
       "      <td>1.200000</td>\n",
       "      <td>15000.000000</td>\n",
       "      <td>0.000000</td>\n",
       "    </tr>\n",
       "    <tr>\n",
       "      <th>50%</th>\n",
       "      <td>2014.000000</td>\n",
       "      <td>3.600000</td>\n",
       "      <td>6.400000</td>\n",
       "      <td>32000.000000</td>\n",
       "      <td>0.000000</td>\n",
       "    </tr>\n",
       "    <tr>\n",
       "      <th>75%</th>\n",
       "      <td>2016.000000</td>\n",
       "      <td>6.000000</td>\n",
       "      <td>9.900000</td>\n",
       "      <td>48767.000000</td>\n",
       "      <td>0.000000</td>\n",
       "    </tr>\n",
       "    <tr>\n",
       "      <th>max</th>\n",
       "      <td>2018.000000</td>\n",
       "      <td>35.000000</td>\n",
       "      <td>92.600000</td>\n",
       "      <td>500000.000000</td>\n",
       "      <td>3.000000</td>\n",
       "    </tr>\n",
       "  </tbody>\n",
       "</table>\n",
       "</div>"
      ],
      "text/plain": [
       "              Year  Selling_Price  Present_Price     Kms_Driven       Owner\n",
       "count   301.000000     301.000000     301.000000     301.000000  301.000000\n",
       "mean   2013.627907       4.661296       7.628472   36947.205980    0.043189\n",
       "std       2.891554       5.082812       8.644115   38886.883882    0.247915\n",
       "min    2003.000000       0.100000       0.320000     500.000000    0.000000\n",
       "25%    2012.000000       0.900000       1.200000   15000.000000    0.000000\n",
       "50%    2014.000000       3.600000       6.400000   32000.000000    0.000000\n",
       "75%    2016.000000       6.000000       9.900000   48767.000000    0.000000\n",
       "max    2018.000000      35.000000      92.600000  500000.000000    3.000000"
      ]
     },
     "execution_count": 144,
     "metadata": {},
     "output_type": "execute_result"
    }
   ],
   "source": [
    "df.describe()"
   ]
  },
  {
   "cell_type": "markdown",
   "metadata": {},
   "source": [
    "**shows the details of count,standard deviation and other properties**"
   ]
  },
  {
   "cell_type": "code",
   "execution_count": 145,
   "metadata": {},
   "outputs": [
    {
     "data": {
      "text/plain": [
       "Index(['Car_Name', 'Year', 'Selling_Price', 'Present_Price', 'Kms_Driven',\n",
       "       'Fuel_Type', 'Seller_Type', 'Transmission', 'Owner'],\n",
       "      dtype='object')"
      ]
     },
     "execution_count": 145,
     "metadata": {},
     "output_type": "execute_result"
    }
   ],
   "source": [
    "df.columns"
   ]
  },
  {
   "cell_type": "markdown",
   "metadata": {},
   "source": [
    "**Removed car names- not usable**\n",
    "\n",
    "\n"
   ]
  },
  {
   "cell_type": "code",
   "execution_count": 146,
   "metadata": {},
   "outputs": [],
   "source": [
    "mod_dataset= df[[ 'Year', 'Selling_Price', 'Present_Price', 'Kms_Driven',\n",
    "       'Fuel_Type', 'Seller_Type', 'Transmission', 'Owner']] "
   ]
  },
  {
   "cell_type": "code",
   "execution_count": 147,
   "metadata": {},
   "outputs": [
    {
     "data": {
      "text/html": [
       "<div>\n",
       "<style scoped>\n",
       "    .dataframe tbody tr th:only-of-type {\n",
       "        vertical-align: middle;\n",
       "    }\n",
       "\n",
       "    .dataframe tbody tr th {\n",
       "        vertical-align: top;\n",
       "    }\n",
       "\n",
       "    .dataframe thead th {\n",
       "        text-align: right;\n",
       "    }\n",
       "</style>\n",
       "<table border=\"1\" class=\"dataframe\">\n",
       "  <thead>\n",
       "    <tr style=\"text-align: right;\">\n",
       "      <th></th>\n",
       "      <th>Year</th>\n",
       "      <th>Selling_Price</th>\n",
       "      <th>Present_Price</th>\n",
       "      <th>Kms_Driven</th>\n",
       "      <th>Fuel_Type</th>\n",
       "      <th>Seller_Type</th>\n",
       "      <th>Transmission</th>\n",
       "      <th>Owner</th>\n",
       "    </tr>\n",
       "  </thead>\n",
       "  <tbody>\n",
       "    <tr>\n",
       "      <th>0</th>\n",
       "      <td>2014</td>\n",
       "      <td>3.35</td>\n",
       "      <td>5.59</td>\n",
       "      <td>27000</td>\n",
       "      <td>Petrol</td>\n",
       "      <td>Dealer</td>\n",
       "      <td>Manual</td>\n",
       "      <td>0</td>\n",
       "    </tr>\n",
       "    <tr>\n",
       "      <th>1</th>\n",
       "      <td>2013</td>\n",
       "      <td>4.75</td>\n",
       "      <td>9.54</td>\n",
       "      <td>43000</td>\n",
       "      <td>Diesel</td>\n",
       "      <td>Dealer</td>\n",
       "      <td>Manual</td>\n",
       "      <td>0</td>\n",
       "    </tr>\n",
       "    <tr>\n",
       "      <th>2</th>\n",
       "      <td>2017</td>\n",
       "      <td>7.25</td>\n",
       "      <td>9.85</td>\n",
       "      <td>6900</td>\n",
       "      <td>Petrol</td>\n",
       "      <td>Dealer</td>\n",
       "      <td>Manual</td>\n",
       "      <td>0</td>\n",
       "    </tr>\n",
       "    <tr>\n",
       "      <th>3</th>\n",
       "      <td>2011</td>\n",
       "      <td>2.85</td>\n",
       "      <td>4.15</td>\n",
       "      <td>5200</td>\n",
       "      <td>Petrol</td>\n",
       "      <td>Dealer</td>\n",
       "      <td>Manual</td>\n",
       "      <td>0</td>\n",
       "    </tr>\n",
       "    <tr>\n",
       "      <th>4</th>\n",
       "      <td>2014</td>\n",
       "      <td>4.60</td>\n",
       "      <td>6.87</td>\n",
       "      <td>42450</td>\n",
       "      <td>Diesel</td>\n",
       "      <td>Dealer</td>\n",
       "      <td>Manual</td>\n",
       "      <td>0</td>\n",
       "    </tr>\n",
       "  </tbody>\n",
       "</table>\n",
       "</div>"
      ],
      "text/plain": [
       "   Year  Selling_Price  Present_Price  Kms_Driven Fuel_Type Seller_Type  \\\n",
       "0  2014           3.35           5.59       27000    Petrol      Dealer   \n",
       "1  2013           4.75           9.54       43000    Diesel      Dealer   \n",
       "2  2017           7.25           9.85        6900    Petrol      Dealer   \n",
       "3  2011           2.85           4.15        5200    Petrol      Dealer   \n",
       "4  2014           4.60           6.87       42450    Diesel      Dealer   \n",
       "\n",
       "  Transmission  Owner  \n",
       "0       Manual      0  \n",
       "1       Manual      0  \n",
       "2       Manual      0  \n",
       "3       Manual      0  \n",
       "4       Manual      0  "
      ]
     },
     "execution_count": 147,
     "metadata": {},
     "output_type": "execute_result"
    }
   ],
   "source": [
    "mod_dataset.head()"
   ]
  },
  {
   "cell_type": "markdown",
   "metadata": {},
   "source": [
    "**Categorical labelling of column feature**"
   ]
  },
  {
   "cell_type": "code",
   "execution_count": 148,
   "metadata": {},
   "outputs": [],
   "source": [
    "mod_dataset['Present_Year'] = 2020"
   ]
  },
  {
   "cell_type": "code",
   "execution_count": 149,
   "metadata": {},
   "outputs": [
    {
     "data": {
      "text/html": [
       "<div>\n",
       "<style scoped>\n",
       "    .dataframe tbody tr th:only-of-type {\n",
       "        vertical-align: middle;\n",
       "    }\n",
       "\n",
       "    .dataframe tbody tr th {\n",
       "        vertical-align: top;\n",
       "    }\n",
       "\n",
       "    .dataframe thead th {\n",
       "        text-align: right;\n",
       "    }\n",
       "</style>\n",
       "<table border=\"1\" class=\"dataframe\">\n",
       "  <thead>\n",
       "    <tr style=\"text-align: right;\">\n",
       "      <th></th>\n",
       "      <th>Year</th>\n",
       "      <th>Selling_Price</th>\n",
       "      <th>Present_Price</th>\n",
       "      <th>Kms_Driven</th>\n",
       "      <th>Fuel_Type</th>\n",
       "      <th>Seller_Type</th>\n",
       "      <th>Transmission</th>\n",
       "      <th>Owner</th>\n",
       "      <th>Present_Year</th>\n",
       "    </tr>\n",
       "  </thead>\n",
       "  <tbody>\n",
       "    <tr>\n",
       "      <th>0</th>\n",
       "      <td>2014</td>\n",
       "      <td>3.35</td>\n",
       "      <td>5.59</td>\n",
       "      <td>27000</td>\n",
       "      <td>Petrol</td>\n",
       "      <td>Dealer</td>\n",
       "      <td>Manual</td>\n",
       "      <td>0</td>\n",
       "      <td>2020</td>\n",
       "    </tr>\n",
       "    <tr>\n",
       "      <th>1</th>\n",
       "      <td>2013</td>\n",
       "      <td>4.75</td>\n",
       "      <td>9.54</td>\n",
       "      <td>43000</td>\n",
       "      <td>Diesel</td>\n",
       "      <td>Dealer</td>\n",
       "      <td>Manual</td>\n",
       "      <td>0</td>\n",
       "      <td>2020</td>\n",
       "    </tr>\n",
       "    <tr>\n",
       "      <th>2</th>\n",
       "      <td>2017</td>\n",
       "      <td>7.25</td>\n",
       "      <td>9.85</td>\n",
       "      <td>6900</td>\n",
       "      <td>Petrol</td>\n",
       "      <td>Dealer</td>\n",
       "      <td>Manual</td>\n",
       "      <td>0</td>\n",
       "      <td>2020</td>\n",
       "    </tr>\n",
       "    <tr>\n",
       "      <th>3</th>\n",
       "      <td>2011</td>\n",
       "      <td>2.85</td>\n",
       "      <td>4.15</td>\n",
       "      <td>5200</td>\n",
       "      <td>Petrol</td>\n",
       "      <td>Dealer</td>\n",
       "      <td>Manual</td>\n",
       "      <td>0</td>\n",
       "      <td>2020</td>\n",
       "    </tr>\n",
       "    <tr>\n",
       "      <th>4</th>\n",
       "      <td>2014</td>\n",
       "      <td>4.60</td>\n",
       "      <td>6.87</td>\n",
       "      <td>42450</td>\n",
       "      <td>Diesel</td>\n",
       "      <td>Dealer</td>\n",
       "      <td>Manual</td>\n",
       "      <td>0</td>\n",
       "      <td>2020</td>\n",
       "    </tr>\n",
       "  </tbody>\n",
       "</table>\n",
       "</div>"
      ],
      "text/plain": [
       "   Year  Selling_Price  Present_Price  Kms_Driven Fuel_Type Seller_Type  \\\n",
       "0  2014           3.35           5.59       27000    Petrol      Dealer   \n",
       "1  2013           4.75           9.54       43000    Diesel      Dealer   \n",
       "2  2017           7.25           9.85        6900    Petrol      Dealer   \n",
       "3  2011           2.85           4.15        5200    Petrol      Dealer   \n",
       "4  2014           4.60           6.87       42450    Diesel      Dealer   \n",
       "\n",
       "  Transmission  Owner  Present_Year  \n",
       "0       Manual      0          2020  \n",
       "1       Manual      0          2020  \n",
       "2       Manual      0          2020  \n",
       "3       Manual      0          2020  \n",
       "4       Manual      0          2020  "
      ]
     },
     "execution_count": 149,
     "metadata": {},
     "output_type": "execute_result"
    }
   ],
   "source": [
    "mod_dataset.head()"
   ]
  },
  {
   "cell_type": "code",
   "execution_count": 150,
   "metadata": {},
   "outputs": [],
   "source": [
    "mod_dataset['no_year']=mod_dataset['Present_Year']- df['Year']"
   ]
  },
  {
   "cell_type": "code",
   "execution_count": 151,
   "metadata": {},
   "outputs": [
    {
     "data": {
      "text/html": [
       "<div>\n",
       "<style scoped>\n",
       "    .dataframe tbody tr th:only-of-type {\n",
       "        vertical-align: middle;\n",
       "    }\n",
       "\n",
       "    .dataframe tbody tr th {\n",
       "        vertical-align: top;\n",
       "    }\n",
       "\n",
       "    .dataframe thead th {\n",
       "        text-align: right;\n",
       "    }\n",
       "</style>\n",
       "<table border=\"1\" class=\"dataframe\">\n",
       "  <thead>\n",
       "    <tr style=\"text-align: right;\">\n",
       "      <th></th>\n",
       "      <th>Year</th>\n",
       "      <th>Selling_Price</th>\n",
       "      <th>Present_Price</th>\n",
       "      <th>Kms_Driven</th>\n",
       "      <th>Fuel_Type</th>\n",
       "      <th>Seller_Type</th>\n",
       "      <th>Transmission</th>\n",
       "      <th>Owner</th>\n",
       "      <th>Present_Year</th>\n",
       "      <th>no_year</th>\n",
       "    </tr>\n",
       "  </thead>\n",
       "  <tbody>\n",
       "    <tr>\n",
       "      <th>0</th>\n",
       "      <td>2014</td>\n",
       "      <td>3.35</td>\n",
       "      <td>5.59</td>\n",
       "      <td>27000</td>\n",
       "      <td>Petrol</td>\n",
       "      <td>Dealer</td>\n",
       "      <td>Manual</td>\n",
       "      <td>0</td>\n",
       "      <td>2020</td>\n",
       "      <td>6</td>\n",
       "    </tr>\n",
       "    <tr>\n",
       "      <th>1</th>\n",
       "      <td>2013</td>\n",
       "      <td>4.75</td>\n",
       "      <td>9.54</td>\n",
       "      <td>43000</td>\n",
       "      <td>Diesel</td>\n",
       "      <td>Dealer</td>\n",
       "      <td>Manual</td>\n",
       "      <td>0</td>\n",
       "      <td>2020</td>\n",
       "      <td>7</td>\n",
       "    </tr>\n",
       "    <tr>\n",
       "      <th>2</th>\n",
       "      <td>2017</td>\n",
       "      <td>7.25</td>\n",
       "      <td>9.85</td>\n",
       "      <td>6900</td>\n",
       "      <td>Petrol</td>\n",
       "      <td>Dealer</td>\n",
       "      <td>Manual</td>\n",
       "      <td>0</td>\n",
       "      <td>2020</td>\n",
       "      <td>3</td>\n",
       "    </tr>\n",
       "    <tr>\n",
       "      <th>3</th>\n",
       "      <td>2011</td>\n",
       "      <td>2.85</td>\n",
       "      <td>4.15</td>\n",
       "      <td>5200</td>\n",
       "      <td>Petrol</td>\n",
       "      <td>Dealer</td>\n",
       "      <td>Manual</td>\n",
       "      <td>0</td>\n",
       "      <td>2020</td>\n",
       "      <td>9</td>\n",
       "    </tr>\n",
       "    <tr>\n",
       "      <th>4</th>\n",
       "      <td>2014</td>\n",
       "      <td>4.60</td>\n",
       "      <td>6.87</td>\n",
       "      <td>42450</td>\n",
       "      <td>Diesel</td>\n",
       "      <td>Dealer</td>\n",
       "      <td>Manual</td>\n",
       "      <td>0</td>\n",
       "      <td>2020</td>\n",
       "      <td>6</td>\n",
       "    </tr>\n",
       "  </tbody>\n",
       "</table>\n",
       "</div>"
      ],
      "text/plain": [
       "   Year  Selling_Price  Present_Price  Kms_Driven Fuel_Type Seller_Type  \\\n",
       "0  2014           3.35           5.59       27000    Petrol      Dealer   \n",
       "1  2013           4.75           9.54       43000    Diesel      Dealer   \n",
       "2  2017           7.25           9.85        6900    Petrol      Dealer   \n",
       "3  2011           2.85           4.15        5200    Petrol      Dealer   \n",
       "4  2014           4.60           6.87       42450    Diesel      Dealer   \n",
       "\n",
       "  Transmission  Owner  Present_Year  no_year  \n",
       "0       Manual      0          2020        6  \n",
       "1       Manual      0          2020        7  \n",
       "2       Manual      0          2020        3  \n",
       "3       Manual      0          2020        9  \n",
       "4       Manual      0          2020        6  "
      ]
     },
     "execution_count": 151,
     "metadata": {},
     "output_type": "execute_result"
    }
   ],
   "source": [
    "mod_dataset.head()"
   ]
  },
  {
   "cell_type": "markdown",
   "metadata": {},
   "source": [
    "**Now \"years\" and \"present year\" feature can be used as estimating age of the car in terms of money value\n",
    " so, we are creating new feature \"no. of years\"**"
   ]
  },
  {
   "cell_type": "code",
   "execution_count": 152,
   "metadata": {},
   "outputs": [],
   "source": [
    "mod_dataset.drop(['Year'],axis=1,inplace=True)"
   ]
  },
  {
   "cell_type": "code",
   "execution_count": 153,
   "metadata": {},
   "outputs": [
    {
     "data": {
      "text/html": [
       "<div>\n",
       "<style scoped>\n",
       "    .dataframe tbody tr th:only-of-type {\n",
       "        vertical-align: middle;\n",
       "    }\n",
       "\n",
       "    .dataframe tbody tr th {\n",
       "        vertical-align: top;\n",
       "    }\n",
       "\n",
       "    .dataframe thead th {\n",
       "        text-align: right;\n",
       "    }\n",
       "</style>\n",
       "<table border=\"1\" class=\"dataframe\">\n",
       "  <thead>\n",
       "    <tr style=\"text-align: right;\">\n",
       "      <th></th>\n",
       "      <th>Selling_Price</th>\n",
       "      <th>Present_Price</th>\n",
       "      <th>Kms_Driven</th>\n",
       "      <th>Fuel_Type</th>\n",
       "      <th>Seller_Type</th>\n",
       "      <th>Transmission</th>\n",
       "      <th>Owner</th>\n",
       "      <th>Present_Year</th>\n",
       "      <th>no_year</th>\n",
       "    </tr>\n",
       "  </thead>\n",
       "  <tbody>\n",
       "    <tr>\n",
       "      <th>0</th>\n",
       "      <td>3.35</td>\n",
       "      <td>5.59</td>\n",
       "      <td>27000</td>\n",
       "      <td>Petrol</td>\n",
       "      <td>Dealer</td>\n",
       "      <td>Manual</td>\n",
       "      <td>0</td>\n",
       "      <td>2020</td>\n",
       "      <td>6</td>\n",
       "    </tr>\n",
       "    <tr>\n",
       "      <th>1</th>\n",
       "      <td>4.75</td>\n",
       "      <td>9.54</td>\n",
       "      <td>43000</td>\n",
       "      <td>Diesel</td>\n",
       "      <td>Dealer</td>\n",
       "      <td>Manual</td>\n",
       "      <td>0</td>\n",
       "      <td>2020</td>\n",
       "      <td>7</td>\n",
       "    </tr>\n",
       "    <tr>\n",
       "      <th>2</th>\n",
       "      <td>7.25</td>\n",
       "      <td>9.85</td>\n",
       "      <td>6900</td>\n",
       "      <td>Petrol</td>\n",
       "      <td>Dealer</td>\n",
       "      <td>Manual</td>\n",
       "      <td>0</td>\n",
       "      <td>2020</td>\n",
       "      <td>3</td>\n",
       "    </tr>\n",
       "    <tr>\n",
       "      <th>3</th>\n",
       "      <td>2.85</td>\n",
       "      <td>4.15</td>\n",
       "      <td>5200</td>\n",
       "      <td>Petrol</td>\n",
       "      <td>Dealer</td>\n",
       "      <td>Manual</td>\n",
       "      <td>0</td>\n",
       "      <td>2020</td>\n",
       "      <td>9</td>\n",
       "    </tr>\n",
       "    <tr>\n",
       "      <th>4</th>\n",
       "      <td>4.60</td>\n",
       "      <td>6.87</td>\n",
       "      <td>42450</td>\n",
       "      <td>Diesel</td>\n",
       "      <td>Dealer</td>\n",
       "      <td>Manual</td>\n",
       "      <td>0</td>\n",
       "      <td>2020</td>\n",
       "      <td>6</td>\n",
       "    </tr>\n",
       "  </tbody>\n",
       "</table>\n",
       "</div>"
      ],
      "text/plain": [
       "   Selling_Price  Present_Price  Kms_Driven Fuel_Type Seller_Type  \\\n",
       "0           3.35           5.59       27000    Petrol      Dealer   \n",
       "1           4.75           9.54       43000    Diesel      Dealer   \n",
       "2           7.25           9.85        6900    Petrol      Dealer   \n",
       "3           2.85           4.15        5200    Petrol      Dealer   \n",
       "4           4.60           6.87       42450    Diesel      Dealer   \n",
       "\n",
       "  Transmission  Owner  Present_Year  no_year  \n",
       "0       Manual      0          2020        6  \n",
       "1       Manual      0          2020        7  \n",
       "2       Manual      0          2020        3  \n",
       "3       Manual      0          2020        9  \n",
       "4       Manual      0          2020        6  "
      ]
     },
     "execution_count": 153,
     "metadata": {},
     "output_type": "execute_result"
    }
   ],
   "source": [
    "mod_dataset.head()"
   ]
  },
  {
   "cell_type": "code",
   "execution_count": 154,
   "metadata": {},
   "outputs": [],
   "source": [
    "mod_dataset.drop(['Present_Year'],axis=1,inplace=True)"
   ]
  },
  {
   "cell_type": "code",
   "execution_count": 155,
   "metadata": {},
   "outputs": [
    {
     "data": {
      "text/html": [
       "<div>\n",
       "<style scoped>\n",
       "    .dataframe tbody tr th:only-of-type {\n",
       "        vertical-align: middle;\n",
       "    }\n",
       "\n",
       "    .dataframe tbody tr th {\n",
       "        vertical-align: top;\n",
       "    }\n",
       "\n",
       "    .dataframe thead th {\n",
       "        text-align: right;\n",
       "    }\n",
       "</style>\n",
       "<table border=\"1\" class=\"dataframe\">\n",
       "  <thead>\n",
       "    <tr style=\"text-align: right;\">\n",
       "      <th></th>\n",
       "      <th>Selling_Price</th>\n",
       "      <th>Present_Price</th>\n",
       "      <th>Kms_Driven</th>\n",
       "      <th>Fuel_Type</th>\n",
       "      <th>Seller_Type</th>\n",
       "      <th>Transmission</th>\n",
       "      <th>Owner</th>\n",
       "      <th>no_year</th>\n",
       "    </tr>\n",
       "  </thead>\n",
       "  <tbody>\n",
       "    <tr>\n",
       "      <th>0</th>\n",
       "      <td>3.35</td>\n",
       "      <td>5.59</td>\n",
       "      <td>27000</td>\n",
       "      <td>Petrol</td>\n",
       "      <td>Dealer</td>\n",
       "      <td>Manual</td>\n",
       "      <td>0</td>\n",
       "      <td>6</td>\n",
       "    </tr>\n",
       "    <tr>\n",
       "      <th>1</th>\n",
       "      <td>4.75</td>\n",
       "      <td>9.54</td>\n",
       "      <td>43000</td>\n",
       "      <td>Diesel</td>\n",
       "      <td>Dealer</td>\n",
       "      <td>Manual</td>\n",
       "      <td>0</td>\n",
       "      <td>7</td>\n",
       "    </tr>\n",
       "    <tr>\n",
       "      <th>2</th>\n",
       "      <td>7.25</td>\n",
       "      <td>9.85</td>\n",
       "      <td>6900</td>\n",
       "      <td>Petrol</td>\n",
       "      <td>Dealer</td>\n",
       "      <td>Manual</td>\n",
       "      <td>0</td>\n",
       "      <td>3</td>\n",
       "    </tr>\n",
       "    <tr>\n",
       "      <th>3</th>\n",
       "      <td>2.85</td>\n",
       "      <td>4.15</td>\n",
       "      <td>5200</td>\n",
       "      <td>Petrol</td>\n",
       "      <td>Dealer</td>\n",
       "      <td>Manual</td>\n",
       "      <td>0</td>\n",
       "      <td>9</td>\n",
       "    </tr>\n",
       "    <tr>\n",
       "      <th>4</th>\n",
       "      <td>4.60</td>\n",
       "      <td>6.87</td>\n",
       "      <td>42450</td>\n",
       "      <td>Diesel</td>\n",
       "      <td>Dealer</td>\n",
       "      <td>Manual</td>\n",
       "      <td>0</td>\n",
       "      <td>6</td>\n",
       "    </tr>\n",
       "  </tbody>\n",
       "</table>\n",
       "</div>"
      ],
      "text/plain": [
       "   Selling_Price  Present_Price  Kms_Driven Fuel_Type Seller_Type  \\\n",
       "0           3.35           5.59       27000    Petrol      Dealer   \n",
       "1           4.75           9.54       43000    Diesel      Dealer   \n",
       "2           7.25           9.85        6900    Petrol      Dealer   \n",
       "3           2.85           4.15        5200    Petrol      Dealer   \n",
       "4           4.60           6.87       42450    Diesel      Dealer   \n",
       "\n",
       "  Transmission  Owner  no_year  \n",
       "0       Manual      0        6  \n",
       "1       Manual      0        7  \n",
       "2       Manual      0        3  \n",
       "3       Manual      0        9  \n",
       "4       Manual      0        6  "
      ]
     },
     "execution_count": 155,
     "metadata": {},
     "output_type": "execute_result"
    }
   ],
   "source": [
    "mod_dataset.head()"
   ]
  },
  {
   "cell_type": "code",
   "execution_count": 156,
   "metadata": {},
   "outputs": [],
   "source": [
    "mod_dataset = pd.get_dummies(mod_dataset,drop_first = True)"
   ]
  },
  {
   "cell_type": "code",
   "execution_count": 157,
   "metadata": {},
   "outputs": [
    {
     "data": {
      "text/html": [
       "<div>\n",
       "<style scoped>\n",
       "    .dataframe tbody tr th:only-of-type {\n",
       "        vertical-align: middle;\n",
       "    }\n",
       "\n",
       "    .dataframe tbody tr th {\n",
       "        vertical-align: top;\n",
       "    }\n",
       "\n",
       "    .dataframe thead th {\n",
       "        text-align: right;\n",
       "    }\n",
       "</style>\n",
       "<table border=\"1\" class=\"dataframe\">\n",
       "  <thead>\n",
       "    <tr style=\"text-align: right;\">\n",
       "      <th></th>\n",
       "      <th>Selling_Price</th>\n",
       "      <th>Present_Price</th>\n",
       "      <th>Kms_Driven</th>\n",
       "      <th>Owner</th>\n",
       "      <th>no_year</th>\n",
       "      <th>Fuel_Type_Diesel</th>\n",
       "      <th>Fuel_Type_Petrol</th>\n",
       "      <th>Seller_Type_Individual</th>\n",
       "      <th>Transmission_Manual</th>\n",
       "    </tr>\n",
       "  </thead>\n",
       "  <tbody>\n",
       "    <tr>\n",
       "      <th>0</th>\n",
       "      <td>3.35</td>\n",
       "      <td>5.59</td>\n",
       "      <td>27000</td>\n",
       "      <td>0</td>\n",
       "      <td>6</td>\n",
       "      <td>0</td>\n",
       "      <td>1</td>\n",
       "      <td>0</td>\n",
       "      <td>1</td>\n",
       "    </tr>\n",
       "    <tr>\n",
       "      <th>1</th>\n",
       "      <td>4.75</td>\n",
       "      <td>9.54</td>\n",
       "      <td>43000</td>\n",
       "      <td>0</td>\n",
       "      <td>7</td>\n",
       "      <td>1</td>\n",
       "      <td>0</td>\n",
       "      <td>0</td>\n",
       "      <td>1</td>\n",
       "    </tr>\n",
       "    <tr>\n",
       "      <th>2</th>\n",
       "      <td>7.25</td>\n",
       "      <td>9.85</td>\n",
       "      <td>6900</td>\n",
       "      <td>0</td>\n",
       "      <td>3</td>\n",
       "      <td>0</td>\n",
       "      <td>1</td>\n",
       "      <td>0</td>\n",
       "      <td>1</td>\n",
       "    </tr>\n",
       "    <tr>\n",
       "      <th>3</th>\n",
       "      <td>2.85</td>\n",
       "      <td>4.15</td>\n",
       "      <td>5200</td>\n",
       "      <td>0</td>\n",
       "      <td>9</td>\n",
       "      <td>0</td>\n",
       "      <td>1</td>\n",
       "      <td>0</td>\n",
       "      <td>1</td>\n",
       "    </tr>\n",
       "    <tr>\n",
       "      <th>4</th>\n",
       "      <td>4.60</td>\n",
       "      <td>6.87</td>\n",
       "      <td>42450</td>\n",
       "      <td>0</td>\n",
       "      <td>6</td>\n",
       "      <td>1</td>\n",
       "      <td>0</td>\n",
       "      <td>0</td>\n",
       "      <td>1</td>\n",
       "    </tr>\n",
       "  </tbody>\n",
       "</table>\n",
       "</div>"
      ],
      "text/plain": [
       "   Selling_Price  Present_Price  Kms_Driven  Owner  no_year  Fuel_Type_Diesel  \\\n",
       "0           3.35           5.59       27000      0        6                 0   \n",
       "1           4.75           9.54       43000      0        7                 1   \n",
       "2           7.25           9.85        6900      0        3                 0   \n",
       "3           2.85           4.15        5200      0        9                 0   \n",
       "4           4.60           6.87       42450      0        6                 1   \n",
       "\n",
       "   Fuel_Type_Petrol  Seller_Type_Individual  Transmission_Manual  \n",
       "0                 1                       0                    1  \n",
       "1                 0                       0                    1  \n",
       "2                 1                       0                    1  \n",
       "3                 1                       0                    1  \n",
       "4                 0                       0                    1  "
      ]
     },
     "execution_count": 157,
     "metadata": {},
     "output_type": "execute_result"
    }
   ],
   "source": [
    "mod_dataset.head()"
   ]
  },
  {
   "cell_type": "code",
   "execution_count": 158,
   "metadata": {},
   "outputs": [
    {
     "data": {
      "text/html": [
       "<div>\n",
       "<style scoped>\n",
       "    .dataframe tbody tr th:only-of-type {\n",
       "        vertical-align: middle;\n",
       "    }\n",
       "\n",
       "    .dataframe tbody tr th {\n",
       "        vertical-align: top;\n",
       "    }\n",
       "\n",
       "    .dataframe thead th {\n",
       "        text-align: right;\n",
       "    }\n",
       "</style>\n",
       "<table border=\"1\" class=\"dataframe\">\n",
       "  <thead>\n",
       "    <tr style=\"text-align: right;\">\n",
       "      <th></th>\n",
       "      <th>Selling_Price</th>\n",
       "      <th>Present_Price</th>\n",
       "      <th>Kms_Driven</th>\n",
       "      <th>Owner</th>\n",
       "      <th>no_year</th>\n",
       "      <th>Fuel_Type_Diesel</th>\n",
       "      <th>Fuel_Type_Petrol</th>\n",
       "      <th>Seller_Type_Individual</th>\n",
       "      <th>Transmission_Manual</th>\n",
       "    </tr>\n",
       "  </thead>\n",
       "  <tbody>\n",
       "    <tr>\n",
       "      <th>Selling_Price</th>\n",
       "      <td>1.000000</td>\n",
       "      <td>0.878983</td>\n",
       "      <td>0.029187</td>\n",
       "      <td>-0.088344</td>\n",
       "      <td>-0.236141</td>\n",
       "      <td>0.552339</td>\n",
       "      <td>-0.540571</td>\n",
       "      <td>-0.550724</td>\n",
       "      <td>-0.367128</td>\n",
       "    </tr>\n",
       "    <tr>\n",
       "      <th>Present_Price</th>\n",
       "      <td>0.878983</td>\n",
       "      <td>1.000000</td>\n",
       "      <td>0.203647</td>\n",
       "      <td>0.008057</td>\n",
       "      <td>0.047584</td>\n",
       "      <td>0.473306</td>\n",
       "      <td>-0.465244</td>\n",
       "      <td>-0.512030</td>\n",
       "      <td>-0.348715</td>\n",
       "    </tr>\n",
       "    <tr>\n",
       "      <th>Kms_Driven</th>\n",
       "      <td>0.029187</td>\n",
       "      <td>0.203647</td>\n",
       "      <td>1.000000</td>\n",
       "      <td>0.089216</td>\n",
       "      <td>0.524342</td>\n",
       "      <td>0.172515</td>\n",
       "      <td>-0.172874</td>\n",
       "      <td>-0.101419</td>\n",
       "      <td>-0.162510</td>\n",
       "    </tr>\n",
       "    <tr>\n",
       "      <th>Owner</th>\n",
       "      <td>-0.088344</td>\n",
       "      <td>0.008057</td>\n",
       "      <td>0.089216</td>\n",
       "      <td>1.000000</td>\n",
       "      <td>0.182104</td>\n",
       "      <td>-0.053469</td>\n",
       "      <td>0.055687</td>\n",
       "      <td>0.124269</td>\n",
       "      <td>-0.050316</td>\n",
       "    </tr>\n",
       "    <tr>\n",
       "      <th>no_year</th>\n",
       "      <td>-0.236141</td>\n",
       "      <td>0.047584</td>\n",
       "      <td>0.524342</td>\n",
       "      <td>0.182104</td>\n",
       "      <td>1.000000</td>\n",
       "      <td>-0.064315</td>\n",
       "      <td>0.059959</td>\n",
       "      <td>0.039896</td>\n",
       "      <td>-0.000394</td>\n",
       "    </tr>\n",
       "    <tr>\n",
       "      <th>Fuel_Type_Diesel</th>\n",
       "      <td>0.552339</td>\n",
       "      <td>0.473306</td>\n",
       "      <td>0.172515</td>\n",
       "      <td>-0.053469</td>\n",
       "      <td>-0.064315</td>\n",
       "      <td>1.000000</td>\n",
       "      <td>-0.979648</td>\n",
       "      <td>-0.350467</td>\n",
       "      <td>-0.098643</td>\n",
       "    </tr>\n",
       "    <tr>\n",
       "      <th>Fuel_Type_Petrol</th>\n",
       "      <td>-0.540571</td>\n",
       "      <td>-0.465244</td>\n",
       "      <td>-0.172874</td>\n",
       "      <td>0.055687</td>\n",
       "      <td>0.059959</td>\n",
       "      <td>-0.979648</td>\n",
       "      <td>1.000000</td>\n",
       "      <td>0.358321</td>\n",
       "      <td>0.091013</td>\n",
       "    </tr>\n",
       "    <tr>\n",
       "      <th>Seller_Type_Individual</th>\n",
       "      <td>-0.550724</td>\n",
       "      <td>-0.512030</td>\n",
       "      <td>-0.101419</td>\n",
       "      <td>0.124269</td>\n",
       "      <td>0.039896</td>\n",
       "      <td>-0.350467</td>\n",
       "      <td>0.358321</td>\n",
       "      <td>1.000000</td>\n",
       "      <td>0.063240</td>\n",
       "    </tr>\n",
       "    <tr>\n",
       "      <th>Transmission_Manual</th>\n",
       "      <td>-0.367128</td>\n",
       "      <td>-0.348715</td>\n",
       "      <td>-0.162510</td>\n",
       "      <td>-0.050316</td>\n",
       "      <td>-0.000394</td>\n",
       "      <td>-0.098643</td>\n",
       "      <td>0.091013</td>\n",
       "      <td>0.063240</td>\n",
       "      <td>1.000000</td>\n",
       "    </tr>\n",
       "  </tbody>\n",
       "</table>\n",
       "</div>"
      ],
      "text/plain": [
       "                        Selling_Price  Present_Price  Kms_Driven     Owner  \\\n",
       "Selling_Price                1.000000       0.878983    0.029187 -0.088344   \n",
       "Present_Price                0.878983       1.000000    0.203647  0.008057   \n",
       "Kms_Driven                   0.029187       0.203647    1.000000  0.089216   \n",
       "Owner                       -0.088344       0.008057    0.089216  1.000000   \n",
       "no_year                     -0.236141       0.047584    0.524342  0.182104   \n",
       "Fuel_Type_Diesel             0.552339       0.473306    0.172515 -0.053469   \n",
       "Fuel_Type_Petrol            -0.540571      -0.465244   -0.172874  0.055687   \n",
       "Seller_Type_Individual      -0.550724      -0.512030   -0.101419  0.124269   \n",
       "Transmission_Manual         -0.367128      -0.348715   -0.162510 -0.050316   \n",
       "\n",
       "                         no_year  Fuel_Type_Diesel  Fuel_Type_Petrol  \\\n",
       "Selling_Price          -0.236141          0.552339         -0.540571   \n",
       "Present_Price           0.047584          0.473306         -0.465244   \n",
       "Kms_Driven              0.524342          0.172515         -0.172874   \n",
       "Owner                   0.182104         -0.053469          0.055687   \n",
       "no_year                 1.000000         -0.064315          0.059959   \n",
       "Fuel_Type_Diesel       -0.064315          1.000000         -0.979648   \n",
       "Fuel_Type_Petrol        0.059959         -0.979648          1.000000   \n",
       "Seller_Type_Individual  0.039896         -0.350467          0.358321   \n",
       "Transmission_Manual    -0.000394         -0.098643          0.091013   \n",
       "\n",
       "                        Seller_Type_Individual  Transmission_Manual  \n",
       "Selling_Price                        -0.550724            -0.367128  \n",
       "Present_Price                        -0.512030            -0.348715  \n",
       "Kms_Driven                           -0.101419            -0.162510  \n",
       "Owner                                 0.124269            -0.050316  \n",
       "no_year                               0.039896            -0.000394  \n",
       "Fuel_Type_Diesel                     -0.350467            -0.098643  \n",
       "Fuel_Type_Petrol                      0.358321             0.091013  \n",
       "Seller_Type_Individual                1.000000             0.063240  \n",
       "Transmission_Manual                   0.063240             1.000000  "
      ]
     },
     "execution_count": 158,
     "metadata": {},
     "output_type": "execute_result"
    }
   ],
   "source": [
    "mod_dataset.corr()"
   ]
  },
  {
   "cell_type": "markdown",
   "metadata": {},
   "source": [
    "**Data Visualisation**"
   ]
  },
  {
   "cell_type": "code",
   "execution_count": 159,
   "metadata": {},
   "outputs": [],
   "source": [
    "import seaborn as sns#data visualisation library\n",
    "import matplotlib.pyplot as plt#plotting library\n",
    "%matplotlib inline"
   ]
  },
  {
   "cell_type": "markdown",
   "metadata": {},
   "source": [
    "**Heat map**"
   ]
  },
  {
   "cell_type": "code",
   "execution_count": 160,
   "metadata": {},
   "outputs": [
    {
     "data": {
      "image/png": "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\n",
      "text/plain": [
       "<Figure size 1440x1440 with 2 Axes>"
      ]
     },
     "metadata": {
      "needs_background": "light"
     },
     "output_type": "display_data"
    }
   ],
   "source": [
    "corrmat = mod_dataset.corr()\n",
    "top_corr_features = corrmat.index\n",
    "plt.figure(figsize=(20,20))\n",
    "heat = sns.heatmap(mod_dataset[top_corr_features].corr(),annot=True,cmap=\"RdYlGn\")"
   ]
  },
  {
   "cell_type": "markdown",
   "metadata": {},
   "source": [
    "**Dark green - highly +vely correlated   \n",
    "  Dark red   - highly -vely correlated**"
   ]
  },
  {
   "cell_type": "code",
   "execution_count": 161,
   "metadata": {},
   "outputs": [
    {
     "data": {
      "text/html": [
       "<div>\n",
       "<style scoped>\n",
       "    .dataframe tbody tr th:only-of-type {\n",
       "        vertical-align: middle;\n",
       "    }\n",
       "\n",
       "    .dataframe tbody tr th {\n",
       "        vertical-align: top;\n",
       "    }\n",
       "\n",
       "    .dataframe thead th {\n",
       "        text-align: right;\n",
       "    }\n",
       "</style>\n",
       "<table border=\"1\" class=\"dataframe\">\n",
       "  <thead>\n",
       "    <tr style=\"text-align: right;\">\n",
       "      <th></th>\n",
       "      <th>Selling_Price</th>\n",
       "      <th>Present_Price</th>\n",
       "      <th>Kms_Driven</th>\n",
       "      <th>Owner</th>\n",
       "      <th>no_year</th>\n",
       "      <th>Fuel_Type_Diesel</th>\n",
       "      <th>Fuel_Type_Petrol</th>\n",
       "      <th>Seller_Type_Individual</th>\n",
       "      <th>Transmission_Manual</th>\n",
       "    </tr>\n",
       "  </thead>\n",
       "  <tbody>\n",
       "    <tr>\n",
       "      <th>0</th>\n",
       "      <td>3.35</td>\n",
       "      <td>5.59</td>\n",
       "      <td>27000</td>\n",
       "      <td>0</td>\n",
       "      <td>6</td>\n",
       "      <td>0</td>\n",
       "      <td>1</td>\n",
       "      <td>0</td>\n",
       "      <td>1</td>\n",
       "    </tr>\n",
       "    <tr>\n",
       "      <th>1</th>\n",
       "      <td>4.75</td>\n",
       "      <td>9.54</td>\n",
       "      <td>43000</td>\n",
       "      <td>0</td>\n",
       "      <td>7</td>\n",
       "      <td>1</td>\n",
       "      <td>0</td>\n",
       "      <td>0</td>\n",
       "      <td>1</td>\n",
       "    </tr>\n",
       "    <tr>\n",
       "      <th>2</th>\n",
       "      <td>7.25</td>\n",
       "      <td>9.85</td>\n",
       "      <td>6900</td>\n",
       "      <td>0</td>\n",
       "      <td>3</td>\n",
       "      <td>0</td>\n",
       "      <td>1</td>\n",
       "      <td>0</td>\n",
       "      <td>1</td>\n",
       "    </tr>\n",
       "    <tr>\n",
       "      <th>3</th>\n",
       "      <td>2.85</td>\n",
       "      <td>4.15</td>\n",
       "      <td>5200</td>\n",
       "      <td>0</td>\n",
       "      <td>9</td>\n",
       "      <td>0</td>\n",
       "      <td>1</td>\n",
       "      <td>0</td>\n",
       "      <td>1</td>\n",
       "    </tr>\n",
       "    <tr>\n",
       "      <th>4</th>\n",
       "      <td>4.60</td>\n",
       "      <td>6.87</td>\n",
       "      <td>42450</td>\n",
       "      <td>0</td>\n",
       "      <td>6</td>\n",
       "      <td>1</td>\n",
       "      <td>0</td>\n",
       "      <td>0</td>\n",
       "      <td>1</td>\n",
       "    </tr>\n",
       "  </tbody>\n",
       "</table>\n",
       "</div>"
      ],
      "text/plain": [
       "   Selling_Price  Present_Price  Kms_Driven  Owner  no_year  Fuel_Type_Diesel  \\\n",
       "0           3.35           5.59       27000      0        6                 0   \n",
       "1           4.75           9.54       43000      0        7                 1   \n",
       "2           7.25           9.85        6900      0        3                 0   \n",
       "3           2.85           4.15        5200      0        9                 0   \n",
       "4           4.60           6.87       42450      0        6                 1   \n",
       "\n",
       "   Fuel_Type_Petrol  Seller_Type_Individual  Transmission_Manual  \n",
       "0                 1                       0                    1  \n",
       "1                 0                       0                    1  \n",
       "2                 1                       0                    1  \n",
       "3                 1                       0                    1  \n",
       "4                 0                       0                    1  "
      ]
     },
     "execution_count": 161,
     "metadata": {},
     "output_type": "execute_result"
    }
   ],
   "source": [
    "mod_dataset.head()"
   ]
  },
  {
   "cell_type": "markdown",
   "metadata": {},
   "source": [
    "**Here dependent feature is \"Selling price\" as y and rest are independent features**"
   ]
  },
  {
   "cell_type": "code",
   "execution_count": 162,
   "metadata": {},
   "outputs": [],
   "source": [
    "X = mod_dataset.iloc[:,1:]\n"
   ]
  },
  {
   "cell_type": "code",
   "execution_count": 163,
   "metadata": {},
   "outputs": [
    {
     "data": {
      "text/html": [
       "<div>\n",
       "<style scoped>\n",
       "    .dataframe tbody tr th:only-of-type {\n",
       "        vertical-align: middle;\n",
       "    }\n",
       "\n",
       "    .dataframe tbody tr th {\n",
       "        vertical-align: top;\n",
       "    }\n",
       "\n",
       "    .dataframe thead th {\n",
       "        text-align: right;\n",
       "    }\n",
       "</style>\n",
       "<table border=\"1\" class=\"dataframe\">\n",
       "  <thead>\n",
       "    <tr style=\"text-align: right;\">\n",
       "      <th></th>\n",
       "      <th>Present_Price</th>\n",
       "      <th>Kms_Driven</th>\n",
       "      <th>Owner</th>\n",
       "      <th>no_year</th>\n",
       "      <th>Fuel_Type_Diesel</th>\n",
       "      <th>Fuel_Type_Petrol</th>\n",
       "      <th>Seller_Type_Individual</th>\n",
       "      <th>Transmission_Manual</th>\n",
       "    </tr>\n",
       "  </thead>\n",
       "  <tbody>\n",
       "    <tr>\n",
       "      <th>0</th>\n",
       "      <td>5.59</td>\n",
       "      <td>27000</td>\n",
       "      <td>0</td>\n",
       "      <td>6</td>\n",
       "      <td>0</td>\n",
       "      <td>1</td>\n",
       "      <td>0</td>\n",
       "      <td>1</td>\n",
       "    </tr>\n",
       "    <tr>\n",
       "      <th>1</th>\n",
       "      <td>9.54</td>\n",
       "      <td>43000</td>\n",
       "      <td>0</td>\n",
       "      <td>7</td>\n",
       "      <td>1</td>\n",
       "      <td>0</td>\n",
       "      <td>0</td>\n",
       "      <td>1</td>\n",
       "    </tr>\n",
       "    <tr>\n",
       "      <th>2</th>\n",
       "      <td>9.85</td>\n",
       "      <td>6900</td>\n",
       "      <td>0</td>\n",
       "      <td>3</td>\n",
       "      <td>0</td>\n",
       "      <td>1</td>\n",
       "      <td>0</td>\n",
       "      <td>1</td>\n",
       "    </tr>\n",
       "    <tr>\n",
       "      <th>3</th>\n",
       "      <td>4.15</td>\n",
       "      <td>5200</td>\n",
       "      <td>0</td>\n",
       "      <td>9</td>\n",
       "      <td>0</td>\n",
       "      <td>1</td>\n",
       "      <td>0</td>\n",
       "      <td>1</td>\n",
       "    </tr>\n",
       "    <tr>\n",
       "      <th>4</th>\n",
       "      <td>6.87</td>\n",
       "      <td>42450</td>\n",
       "      <td>0</td>\n",
       "      <td>6</td>\n",
       "      <td>1</td>\n",
       "      <td>0</td>\n",
       "      <td>0</td>\n",
       "      <td>1</td>\n",
       "    </tr>\n",
       "  </tbody>\n",
       "</table>\n",
       "</div>"
      ],
      "text/plain": [
       "   Present_Price  Kms_Driven  Owner  no_year  Fuel_Type_Diesel  \\\n",
       "0           5.59       27000      0        6                 0   \n",
       "1           9.54       43000      0        7                 1   \n",
       "2           9.85        6900      0        3                 0   \n",
       "3           4.15        5200      0        9                 0   \n",
       "4           6.87       42450      0        6                 1   \n",
       "\n",
       "   Fuel_Type_Petrol  Seller_Type_Individual  Transmission_Manual  \n",
       "0                 1                       0                    1  \n",
       "1                 0                       0                    1  \n",
       "2                 1                       0                    1  \n",
       "3                 1                       0                    1  \n",
       "4                 0                       0                    1  "
      ]
     },
     "execution_count": 163,
     "metadata": {},
     "output_type": "execute_result"
    }
   ],
   "source": [
    "X.head()"
   ]
  },
  {
   "cell_type": "code",
   "execution_count": 164,
   "metadata": {},
   "outputs": [],
   "source": [
    "y = mod_dataset.iloc[:,0]\n"
   ]
  },
  {
   "cell_type": "code",
   "execution_count": 165,
   "metadata": {},
   "outputs": [
    {
     "data": {
      "text/plain": [
       "0    3.35\n",
       "1    4.75\n",
       "2    7.25\n",
       "3    2.85\n",
       "4    4.60\n",
       "Name: Selling_Price, dtype: float64"
      ]
     },
     "execution_count": 165,
     "metadata": {},
     "output_type": "execute_result"
    }
   ],
   "source": [
    "y.head()"
   ]
  },
  {
   "cell_type": "markdown",
   "metadata": {},
   "source": [
    "**we are going to see the importance of features**"
   ]
  },
  {
   "cell_type": "code",
   "execution_count": 166,
   "metadata": {},
   "outputs": [
    {
     "data": {
      "text/plain": [
       "ExtraTreesRegressor(bootstrap=False, ccp_alpha=0.0, criterion='mse',\n",
       "                    max_depth=None, max_features='auto', max_leaf_nodes=None,\n",
       "                    max_samples=None, min_impurity_decrease=0.0,\n",
       "                    min_impurity_split=None, min_samples_leaf=1,\n",
       "                    min_samples_split=2, min_weight_fraction_leaf=0.0,\n",
       "                    n_estimators=100, n_jobs=None, oob_score=False,\n",
       "                    random_state=None, verbose=0, warm_start=False)"
      ]
     },
     "execution_count": 166,
     "metadata": {},
     "output_type": "execute_result"
    }
   ],
   "source": [
    "from sklearn.ensemble import ExtraTreesRegressor\n",
    "model = ExtraTreesRegressor()\n",
    "model.fit(X,y)"
   ]
  },
  {
   "cell_type": "code",
   "execution_count": 168,
   "metadata": {},
   "outputs": [
    {
     "name": "stdout",
     "output_type": "stream",
     "text": [
      "[0.36918615 0.03906453 0.00096716 0.07662817 0.23779576 0.01351081\n",
      " 0.12545851 0.13738891]\n"
     ]
    }
   ],
   "source": [
    "print(model.feature_importances_)"
   ]
  },
  {
   "cell_type": "markdown",
   "metadata": {},
   "source": [
    "**From this, Present_price , fuel-type-diesel are highly important, just to see for the comparison**"
   ]
  },
  {
   "cell_type": "markdown",
   "metadata": {},
   "source": [
    "**Let's see as visualisation**"
   ]
  },
  {
   "cell_type": "code",
   "execution_count": 185,
   "metadata": {},
   "outputs": [
    {
     "data": {
      "image/png": "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\n",
      "text/plain": [
       "<Figure size 432x288 with 1 Axes>"
      ]
     },
     "metadata": {
      "needs_background": "light"
     },
     "output_type": "display_data"
    }
   ],
   "source": [
    "f_imp = pd.Series(model.feature_importances_, index =X.columns)\n",
    "f_imp.nlargest(5).plot(kind='barh')\n",
    "plt.show()"
   ]
  },
  {
   "cell_type": "markdown",
   "metadata": {},
   "source": [
    "**Training and test dataset splitting**"
   ]
  },
  {
   "cell_type": "code",
   "execution_count": 170,
   "metadata": {},
   "outputs": [],
   "source": [
    "from sklearn.model_selection import train_test_split\n",
    "X_train,X_test,y_train,y_test = train_test_split(X,y,test_size=0.2,random_state=0)"
   ]
  },
  {
   "cell_type": "code",
   "execution_count": 171,
   "metadata": {},
   "outputs": [
    {
     "data": {
      "text/plain": [
       "LinearRegression(copy_X=True, fit_intercept=True, n_jobs=None, normalize=False)"
      ]
     },
     "execution_count": 171,
     "metadata": {},
     "output_type": "execute_result"
    }
   ],
   "source": [
    "from sklearn.linear_model import LinearRegression\n",
    "lr = LinearRegression()\n",
    "lr.fit(X_train,y_train)"
   ]
  },
  {
   "cell_type": "code",
   "execution_count": 172,
   "metadata": {},
   "outputs": [
    {
     "name": "stdout",
     "output_type": "stream",
     "text": [
      "[ 7.51749959 -0.38136     4.2559471   9.00719207 14.4269339   4.87144495\n",
      "  3.50800415  1.44729345  5.3451756   4.61435641  2.26758534  1.6209573\n",
      "  5.0502457   7.5592941   8.60637169 13.98391877  7.32792948  4.23074458\n",
      " -0.43329109  2.36959252  4.98862734  3.82566592  6.43249291  8.02059313\n",
      " -1.89494718  1.92952344 -0.82194725  0.82000278  0.0287008   7.09763522\n",
      "  3.56594643  7.42982762  0.72122573  7.93570184  3.51526022  1.8051379\n",
      "  5.54534144  6.9878273  -2.62961763  9.08622868  9.21468651 20.02249841\n",
      "  4.37997532  3.85349481  6.66353853  9.8481939   0.13251979  1.68098927\n",
      "  5.0992548   7.35232556  8.07177253  4.17227139  4.84915569 20.36876087\n",
      "  1.7479962   1.30291959  0.30682078  1.98321103  3.37503799  0.87901548\n",
      "  3.52730876]\n"
     ]
    }
   ],
   "source": [
    "y_pred_lr = lr.predict(X_test)\n",
    "print(y_pred_lr)"
   ]
  },
  {
   "cell_type": "code",
   "execution_count": 241,
   "metadata": {},
   "outputs": [
    {
     "data": {
      "text/plain": [
       "RandomForestRegressor(bootstrap=True, ccp_alpha=0.0, criterion='mse',\n",
       "                      max_depth=None, max_features='auto', max_leaf_nodes=None,\n",
       "                      max_samples=None, min_impurity_decrease=0.0,\n",
       "                      min_impurity_split=None, min_samples_leaf=1,\n",
       "                      min_samples_split=2, min_weight_fraction_leaf=0.0,\n",
       "                      n_estimators=100, n_jobs=None, oob_score=False,\n",
       "                      random_state=None, verbose=0, warm_start=False)"
      ]
     },
     "execution_count": 241,
     "metadata": {},
     "output_type": "execute_result"
    }
   ],
   "source": [
    "from sklearn.ensemble import RandomForestRegressor\n",
    "rf = RandomForestRegressor()\n",
    "rf.fit(X_train,y_train)"
   ]
  },
  {
   "cell_type": "markdown",
   "metadata": {},
   "source": [
    "**Next by optimising the best values for hyper-parameters by doing Randomised serchCV**"
   ]
  },
  {
   "cell_type": "markdown",
   "metadata": {},
   "source": [
    "**Previously we had trained the model with default params\n",
    "but had to be increased its model performance in terms of hyperparameters**\n",
    "**One such is by no. of estimators and goes on**"
   ]
  },
  {
   "cell_type": "code",
   "execution_count": 242,
   "metadata": {},
   "outputs": [
    {
     "name": "stdout",
     "output_type": "stream",
     "text": [
      "[100, 200, 300, 400, 500, 600, 700, 800, 900, 1000, 1100, 1200]\n"
     ]
    }
   ],
   "source": [
    "import numpy as np\n",
    "n_estimators = [int(x) for x in np.linspace(start = 100,stop = 1200,num =12)]\n",
    "print(n_estimators)##tells the no. of decision trees in the random forest"
   ]
  },
  {
   "cell_type": "code",
   "execution_count": 243,
   "metadata": {},
   "outputs": [],
   "source": [
    "max_features = ['auto','sqrt']#functions to be used at each split happens in the forest"
   ]
  },
  {
   "cell_type": "code",
   "execution_count": 244,
   "metadata": {},
   "outputs": [],
   "source": [
    "max_depth = [int(x) for x in np.linspace(5,30,num =6)]\n",
    "##tells the depth of the tree(say like in terms of leafs and nodes of a normal tree)\n",
    "\n"
   ]
  },
  {
   "cell_type": "code",
   "execution_count": 245,
   "metadata": {},
   "outputs": [],
   "source": [
    "min_samples_split = [2,5,10,15,100] #minimum number of samples required to split an internal node of a tree"
   ]
  },
  {
   "cell_type": "code",
   "execution_count": 246,
   "metadata": {},
   "outputs": [],
   "source": [
    "min_samples_leaf = [1, 2, 5, 10] #tells min.no of leaf in nodes of tree"
   ]
  },
  {
   "cell_type": "code",
   "execution_count": 247,
   "metadata": {},
   "outputs": [],
   "source": [
    "from sklearn.model_selection import RandomizedSearchCV\n",
    "   "
   ]
  },
  {
   "cell_type": "code",
   "execution_count": 248,
   "metadata": {},
   "outputs": [],
   "source": [
    "rscv = {'n_estimators': n_estimators,\n",
    "       'max_features': max_features,\n",
    "       'max_depth': max_depth,\n",
    "       'min_samples_split': min_samples_split,\n",
    "       'min_samples_leaf': min_samples_leaf}\n"
   ]
  },
  {
   "cell_type": "code",
   "execution_count": 249,
   "metadata": {},
   "outputs": [
    {
     "name": "stdout",
     "output_type": "stream",
     "text": [
      "{'n_estimators': [100, 200, 300, 400, 500, 600, 700, 800, 900, 1000, 1100, 1200], 'max_features': ['auto', 'sqrt'], 'max_depth': [5, 10, 15, 20, 25, 30], 'min_samples_split': [2, 5, 10, 15, 100], 'min_samples_leaf': [1, 2, 5, 10]}\n"
     ]
    }
   ],
   "source": [
    "print(rscv)"
   ]
  },
  {
   "cell_type": "code",
   "execution_count": 250,
   "metadata": {},
   "outputs": [],
   "source": [
    "rf =RandomForestRegressor()"
   ]
  },
  {
   "cell_type": "code",
   "execution_count": 251,
   "metadata": {},
   "outputs": [],
   "source": [
    "rf_rcv = RandomizedSearchCV(estimator = rf, param_distributions = rscv,scoring='neg_mean_squared_error', n_iter = 10, cv = 5, verbose=2, random_state=42, n_jobs = 1)\n",
    "#scoring tells based on what the predict evaluations take place\n",
    "#verbose shows the results\n",
    "#njobs tells parallel computaion use of the laptop cores"
   ]
  },
  {
   "cell_type": "code",
   "execution_count": 255,
   "metadata": {},
   "outputs": [
    {
     "name": "stdout",
     "output_type": "stream",
     "text": [
      "Fitting 5 folds for each of 10 candidates, totalling 50 fits\n",
      "[CV] n_estimators=900, min_samples_split=5, min_samples_leaf=5, max_features=sqrt, max_depth=10 \n"
     ]
    },
    {
     "name": "stderr",
     "output_type": "stream",
     "text": [
      "[Parallel(n_jobs=1)]: Using backend SequentialBackend with 1 concurrent workers.\n"
     ]
    },
    {
     "name": "stdout",
     "output_type": "stream",
     "text": [
      "[CV]  n_estimators=900, min_samples_split=5, min_samples_leaf=5, max_features=sqrt, max_depth=10, total=   0.9s\n",
      "[CV] n_estimators=900, min_samples_split=5, min_samples_leaf=5, max_features=sqrt, max_depth=10 \n"
     ]
    },
    {
     "name": "stderr",
     "output_type": "stream",
     "text": [
      "[Parallel(n_jobs=1)]: Done   1 out of   1 | elapsed:    0.8s remaining:    0.0s\n"
     ]
    },
    {
     "name": "stdout",
     "output_type": "stream",
     "text": [
      "[CV]  n_estimators=900, min_samples_split=5, min_samples_leaf=5, max_features=sqrt, max_depth=10, total=   1.0s\n",
      "[CV] n_estimators=900, min_samples_split=5, min_samples_leaf=5, max_features=sqrt, max_depth=10 \n",
      "[CV]  n_estimators=900, min_samples_split=5, min_samples_leaf=5, max_features=sqrt, max_depth=10, total=   0.9s\n",
      "[CV] n_estimators=900, min_samples_split=5, min_samples_leaf=5, max_features=sqrt, max_depth=10 \n",
      "[CV]  n_estimators=900, min_samples_split=5, min_samples_leaf=5, max_features=sqrt, max_depth=10, total=   0.9s\n",
      "[CV] n_estimators=900, min_samples_split=5, min_samples_leaf=5, max_features=sqrt, max_depth=10 \n",
      "[CV]  n_estimators=900, min_samples_split=5, min_samples_leaf=5, max_features=sqrt, max_depth=10, total=   1.0s\n",
      "[CV] n_estimators=1100, min_samples_split=10, min_samples_leaf=2, max_features=sqrt, max_depth=15 \n",
      "[CV]  n_estimators=1100, min_samples_split=10, min_samples_leaf=2, max_features=sqrt, max_depth=15, total=   1.2s\n",
      "[CV] n_estimators=1100, min_samples_split=10, min_samples_leaf=2, max_features=sqrt, max_depth=15 \n",
      "[CV]  n_estimators=1100, min_samples_split=10, min_samples_leaf=2, max_features=sqrt, max_depth=15, total=   1.6s\n",
      "[CV] n_estimators=1100, min_samples_split=10, min_samples_leaf=2, max_features=sqrt, max_depth=15 \n",
      "[CV]  n_estimators=1100, min_samples_split=10, min_samples_leaf=2, max_features=sqrt, max_depth=15, total=   2.5s\n",
      "[CV] n_estimators=1100, min_samples_split=10, min_samples_leaf=2, max_features=sqrt, max_depth=15 \n",
      "[CV]  n_estimators=1100, min_samples_split=10, min_samples_leaf=2, max_features=sqrt, max_depth=15, total=   2.5s\n",
      "[CV] n_estimators=1100, min_samples_split=10, min_samples_leaf=2, max_features=sqrt, max_depth=15 \n",
      "[CV]  n_estimators=1100, min_samples_split=10, min_samples_leaf=2, max_features=sqrt, max_depth=15, total=   2.5s\n",
      "[CV] n_estimators=300, min_samples_split=100, min_samples_leaf=5, max_features=auto, max_depth=15 \n",
      "[CV]  n_estimators=300, min_samples_split=100, min_samples_leaf=5, max_features=auto, max_depth=15, total=   0.7s\n",
      "[CV] n_estimators=300, min_samples_split=100, min_samples_leaf=5, max_features=auto, max_depth=15 \n",
      "[CV]  n_estimators=300, min_samples_split=100, min_samples_leaf=5, max_features=auto, max_depth=15, total=   0.7s\n",
      "[CV] n_estimators=300, min_samples_split=100, min_samples_leaf=5, max_features=auto, max_depth=15 \n",
      "[CV]  n_estimators=300, min_samples_split=100, min_samples_leaf=5, max_features=auto, max_depth=15, total=   0.7s\n",
      "[CV] n_estimators=300, min_samples_split=100, min_samples_leaf=5, max_features=auto, max_depth=15 \n",
      "[CV]  n_estimators=300, min_samples_split=100, min_samples_leaf=5, max_features=auto, max_depth=15, total=   0.7s\n",
      "[CV] n_estimators=300, min_samples_split=100, min_samples_leaf=5, max_features=auto, max_depth=15 \n",
      "[CV]  n_estimators=300, min_samples_split=100, min_samples_leaf=5, max_features=auto, max_depth=15, total=   0.7s\n",
      "[CV] n_estimators=400, min_samples_split=5, min_samples_leaf=5, max_features=auto, max_depth=15 \n",
      "[CV]  n_estimators=400, min_samples_split=5, min_samples_leaf=5, max_features=auto, max_depth=15, total=   1.0s\n",
      "[CV] n_estimators=400, min_samples_split=5, min_samples_leaf=5, max_features=auto, max_depth=15 \n",
      "[CV]  n_estimators=400, min_samples_split=5, min_samples_leaf=5, max_features=auto, max_depth=15, total=   0.9s\n",
      "[CV] n_estimators=400, min_samples_split=5, min_samples_leaf=5, max_features=auto, max_depth=15 \n",
      "[CV]  n_estimators=400, min_samples_split=5, min_samples_leaf=5, max_features=auto, max_depth=15, total=   0.5s\n",
      "[CV] n_estimators=400, min_samples_split=5, min_samples_leaf=5, max_features=auto, max_depth=15 \n",
      "[CV]  n_estimators=400, min_samples_split=5, min_samples_leaf=5, max_features=auto, max_depth=15, total=   0.5s\n",
      "[CV] n_estimators=400, min_samples_split=5, min_samples_leaf=5, max_features=auto, max_depth=15 \n",
      "[CV]  n_estimators=400, min_samples_split=5, min_samples_leaf=5, max_features=auto, max_depth=15, total=   0.5s\n",
      "[CV] n_estimators=700, min_samples_split=5, min_samples_leaf=10, max_features=auto, max_depth=20 \n",
      "[CV]  n_estimators=700, min_samples_split=5, min_samples_leaf=10, max_features=auto, max_depth=20, total=   0.8s\n",
      "[CV] n_estimators=700, min_samples_split=5, min_samples_leaf=10, max_features=auto, max_depth=20 \n",
      "[CV]  n_estimators=700, min_samples_split=5, min_samples_leaf=10, max_features=auto, max_depth=20, total=   0.8s\n",
      "[CV] n_estimators=700, min_samples_split=5, min_samples_leaf=10, max_features=auto, max_depth=20 \n",
      "[CV]  n_estimators=700, min_samples_split=5, min_samples_leaf=10, max_features=auto, max_depth=20, total=   0.8s\n",
      "[CV] n_estimators=700, min_samples_split=5, min_samples_leaf=10, max_features=auto, max_depth=20 \n",
      "[CV]  n_estimators=700, min_samples_split=5, min_samples_leaf=10, max_features=auto, max_depth=20, total=   0.8s\n",
      "[CV] n_estimators=700, min_samples_split=5, min_samples_leaf=10, max_features=auto, max_depth=20 \n",
      "[CV]  n_estimators=700, min_samples_split=5, min_samples_leaf=10, max_features=auto, max_depth=20, total=   0.8s\n",
      "[CV] n_estimators=1000, min_samples_split=2, min_samples_leaf=1, max_features=sqrt, max_depth=25 \n",
      "[CV]  n_estimators=1000, min_samples_split=2, min_samples_leaf=1, max_features=sqrt, max_depth=25, total=   1.2s\n",
      "[CV] n_estimators=1000, min_samples_split=2, min_samples_leaf=1, max_features=sqrt, max_depth=25 \n",
      "[CV]  n_estimators=1000, min_samples_split=2, min_samples_leaf=1, max_features=sqrt, max_depth=25, total=   1.2s\n",
      "[CV] n_estimators=1000, min_samples_split=2, min_samples_leaf=1, max_features=sqrt, max_depth=25 \n",
      "[CV]  n_estimators=1000, min_samples_split=2, min_samples_leaf=1, max_features=sqrt, max_depth=25, total=   1.1s\n",
      "[CV] n_estimators=1000, min_samples_split=2, min_samples_leaf=1, max_features=sqrt, max_depth=25 \n",
      "[CV]  n_estimators=1000, min_samples_split=2, min_samples_leaf=1, max_features=sqrt, max_depth=25, total=   2.1s\n",
      "[CV] n_estimators=1000, min_samples_split=2, min_samples_leaf=1, max_features=sqrt, max_depth=25 \n",
      "[CV]  n_estimators=1000, min_samples_split=2, min_samples_leaf=1, max_features=sqrt, max_depth=25, total=   2.5s\n",
      "[CV] n_estimators=1100, min_samples_split=15, min_samples_leaf=10, max_features=sqrt, max_depth=5 \n",
      "[CV]  n_estimators=1100, min_samples_split=15, min_samples_leaf=10, max_features=sqrt, max_depth=5, total=   2.5s\n",
      "[CV] n_estimators=1100, min_samples_split=15, min_samples_leaf=10, max_features=sqrt, max_depth=5 \n",
      "[CV]  n_estimators=1100, min_samples_split=15, min_samples_leaf=10, max_features=sqrt, max_depth=5, total=   2.5s\n",
      "[CV] n_estimators=1100, min_samples_split=15, min_samples_leaf=10, max_features=sqrt, max_depth=5 \n",
      "[CV]  n_estimators=1100, min_samples_split=15, min_samples_leaf=10, max_features=sqrt, max_depth=5, total=   2.4s\n",
      "[CV] n_estimators=1100, min_samples_split=15, min_samples_leaf=10, max_features=sqrt, max_depth=5 \n",
      "[CV]  n_estimators=1100, min_samples_split=15, min_samples_leaf=10, max_features=sqrt, max_depth=5, total=   2.2s\n",
      "[CV] n_estimators=1100, min_samples_split=15, min_samples_leaf=10, max_features=sqrt, max_depth=5 \n",
      "[CV]  n_estimators=1100, min_samples_split=15, min_samples_leaf=10, max_features=sqrt, max_depth=5, total=   1.1s\n",
      "[CV] n_estimators=300, min_samples_split=15, min_samples_leaf=1, max_features=sqrt, max_depth=15 \n",
      "[CV]  n_estimators=300, min_samples_split=15, min_samples_leaf=1, max_features=sqrt, max_depth=15, total=   0.3s\n",
      "[CV] n_estimators=300, min_samples_split=15, min_samples_leaf=1, max_features=sqrt, max_depth=15 \n",
      "[CV]  n_estimators=300, min_samples_split=15, min_samples_leaf=1, max_features=sqrt, max_depth=15, total=   0.3s\n",
      "[CV] n_estimators=300, min_samples_split=15, min_samples_leaf=1, max_features=sqrt, max_depth=15 \n",
      "[CV]  n_estimators=300, min_samples_split=15, min_samples_leaf=1, max_features=sqrt, max_depth=15, total=   0.3s\n",
      "[CV] n_estimators=300, min_samples_split=15, min_samples_leaf=1, max_features=sqrt, max_depth=15 \n",
      "[CV]  n_estimators=300, min_samples_split=15, min_samples_leaf=1, max_features=sqrt, max_depth=15, total=   0.3s\n",
      "[CV] n_estimators=300, min_samples_split=15, min_samples_leaf=1, max_features=sqrt, max_depth=15 \n",
      "[CV]  n_estimators=300, min_samples_split=15, min_samples_leaf=1, max_features=sqrt, max_depth=15, total=   0.3s\n",
      "[CV] n_estimators=700, min_samples_split=10, min_samples_leaf=2, max_features=sqrt, max_depth=5 \n"
     ]
    },
    {
     "name": "stdout",
     "output_type": "stream",
     "text": [
      "[CV]  n_estimators=700, min_samples_split=10, min_samples_leaf=2, max_features=sqrt, max_depth=5, total=   0.7s\n",
      "[CV] n_estimators=700, min_samples_split=10, min_samples_leaf=2, max_features=sqrt, max_depth=5 \n",
      "[CV]  n_estimators=700, min_samples_split=10, min_samples_leaf=2, max_features=sqrt, max_depth=5, total=   0.7s\n",
      "[CV] n_estimators=700, min_samples_split=10, min_samples_leaf=2, max_features=sqrt, max_depth=5 \n",
      "[CV]  n_estimators=700, min_samples_split=10, min_samples_leaf=2, max_features=sqrt, max_depth=5, total=   0.7s\n",
      "[CV] n_estimators=700, min_samples_split=10, min_samples_leaf=2, max_features=sqrt, max_depth=5 \n",
      "[CV]  n_estimators=700, min_samples_split=10, min_samples_leaf=2, max_features=sqrt, max_depth=5, total=   0.7s\n",
      "[CV] n_estimators=700, min_samples_split=10, min_samples_leaf=2, max_features=sqrt, max_depth=5 \n",
      "[CV]  n_estimators=700, min_samples_split=10, min_samples_leaf=2, max_features=sqrt, max_depth=5, total=   0.7s\n",
      "[CV] n_estimators=700, min_samples_split=15, min_samples_leaf=1, max_features=auto, max_depth=20 \n",
      "[CV]  n_estimators=700, min_samples_split=15, min_samples_leaf=1, max_features=auto, max_depth=20, total=   0.8s\n",
      "[CV] n_estimators=700, min_samples_split=15, min_samples_leaf=1, max_features=auto, max_depth=20 \n",
      "[CV]  n_estimators=700, min_samples_split=15, min_samples_leaf=1, max_features=auto, max_depth=20, total=   0.9s\n",
      "[CV] n_estimators=700, min_samples_split=15, min_samples_leaf=1, max_features=auto, max_depth=20 \n",
      "[CV]  n_estimators=700, min_samples_split=15, min_samples_leaf=1, max_features=auto, max_depth=20, total=   0.9s\n",
      "[CV] n_estimators=700, min_samples_split=15, min_samples_leaf=1, max_features=auto, max_depth=20 \n",
      "[CV]  n_estimators=700, min_samples_split=15, min_samples_leaf=1, max_features=auto, max_depth=20, total=   1.7s\n",
      "[CV] n_estimators=700, min_samples_split=15, min_samples_leaf=1, max_features=auto, max_depth=20 \n",
      "[CV]  n_estimators=700, min_samples_split=15, min_samples_leaf=1, max_features=auto, max_depth=20, total=   1.7s\n"
     ]
    },
    {
     "name": "stderr",
     "output_type": "stream",
     "text": [
      "[Parallel(n_jobs=1)]: Done  50 out of  50 | elapsed:   55.5s finished\n"
     ]
    },
    {
     "data": {
      "text/plain": [
       "RandomizedSearchCV(cv=5, error_score=nan,\n",
       "                   estimator=RandomForestRegressor(bootstrap=True,\n",
       "                                                   ccp_alpha=0.0,\n",
       "                                                   criterion='mse',\n",
       "                                                   max_depth=None,\n",
       "                                                   max_features='auto',\n",
       "                                                   max_leaf_nodes=None,\n",
       "                                                   max_samples=None,\n",
       "                                                   min_impurity_decrease=0.0,\n",
       "                                                   min_impurity_split=None,\n",
       "                                                   min_samples_leaf=1,\n",
       "                                                   min_samples_split=2,\n",
       "                                                   min_weight_fraction_leaf=0.0,\n",
       "                                                   n_estimators=100,\n",
       "                                                   n_jobs=None, oob_score=Fals...\n",
       "                   iid='deprecated', n_iter=10, n_jobs=1,\n",
       "                   param_distributions={'max_depth': [5, 10, 15, 20, 25, 30],\n",
       "                                        'max_features': ['auto', 'sqrt'],\n",
       "                                        'min_samples_leaf': [1, 2, 5, 10],\n",
       "                                        'min_samples_split': [2, 5, 10, 15,\n",
       "                                                              100],\n",
       "                                        'n_estimators': [100, 200, 300, 400,\n",
       "                                                         500, 600, 700, 800,\n",
       "                                                         900, 1000, 1100,\n",
       "                                                         1200]},\n",
       "                   pre_dispatch='2*n_jobs', random_state=42, refit=True,\n",
       "                   return_train_score=False, scoring='neg_mean_squared_error',\n",
       "                   verbose=2)"
      ]
     },
     "execution_count": 255,
     "metadata": {},
     "output_type": "execute_result"
    }
   ],
   "source": [
    "rf_rcv.fit(X_train,y_train)"
   ]
  },
  {
   "cell_type": "code",
   "execution_count": 256,
   "metadata": {},
   "outputs": [],
   "source": [
    "pred = rf_rcv.predict(X_test)"
   ]
  },
  {
   "cell_type": "code",
   "execution_count": 257,
   "metadata": {},
   "outputs": [
    {
     "data": {
      "text/plain": [
       "array([ 7.00617406,  0.52495849,  4.93710637,  8.35189459, 12.48974767,\n",
       "        5.2745133 ,  3.32029662,  0.42740301,  3.94501888,  5.04947166,\n",
       "        2.83435151,  0.66209069,  5.11523869,  7.20994692,  7.4984792 ,\n",
       "       12.65818228,  7.02466158,  4.17964807,  0.48141235,  1.30023617,\n",
       "        3.25830959,  5.21228393,  5.42022922, 10.4153127 ,  0.23852729,\n",
       "        0.69685511,  0.33749463,  0.66498299,  0.50905973,  4.91292261,\n",
       "        2.85440939,  5.87966484,  0.5159217 ,  7.14439653,  3.32995681,\n",
       "        1.15197545,  5.74265096,  5.4489769 ,  0.25497613,  7.92448125,\n",
       "        7.6305401 , 22.0507445 ,  5.06774534,  4.52383589,  5.5829065 ,\n",
       "       10.32861768,  0.25662132,  0.74553784,  5.41509713,  6.79905523,\n",
       "        6.78656703,  2.96035354,  5.31659873, 22.0507445 ,  1.15143603,\n",
       "        1.15072174,  0.4156097 ,  2.75927847,  3.66094865,  2.52972139,\n",
       "        4.66964003])"
      ]
     },
     "execution_count": 257,
     "metadata": {},
     "output_type": "execute_result"
    }
   ],
   "source": [
    "pred"
   ]
  },
  {
   "cell_type": "code",
   "execution_count": 258,
   "metadata": {},
   "outputs": [
    {
     "data": {
      "text/plain": [
       "<matplotlib.axes._subplots.AxesSubplot at 0x212037e3ec8>"
      ]
     },
     "execution_count": 258,
     "metadata": {},
     "output_type": "execute_result"
    },
    {
     "data": {
      "image/png": "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\n",
      "text/plain": [
       "<Figure size 432x288 with 1 Axes>"
      ]
     },
     "metadata": {
      "needs_background": "light"
     },
     "output_type": "display_data"
    }
   ],
   "source": [
    "sns.distplot(y_test - pred)"
   ]
  },
  {
   "cell_type": "code",
   "execution_count": 259,
   "metadata": {},
   "outputs": [
    {
     "data": {
      "text/plain": [
       "<matplotlib.collections.PathCollection at 0x2120387d588>"
      ]
     },
     "execution_count": 259,
     "metadata": {},
     "output_type": "execute_result"
    },
    {
     "data": {
      "image/png": "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\n",
      "text/plain": [
       "<Figure size 432x288 with 1 Axes>"
      ]
     },
     "metadata": {
      "needs_background": "light"
     },
     "output_type": "display_data"
    }
   ],
   "source": [
    "plt.scatter(y_test,pred)"
   ]
  },
  {
   "cell_type": "code",
   "execution_count": 260,
   "metadata": {},
   "outputs": [],
   "source": [
    "from sklearn import metrics"
   ]
  },
  {
   "cell_type": "code",
   "execution_count": 261,
   "metadata": {},
   "outputs": [
    {
     "name": "stdout",
     "output_type": "stream",
     "text": [
      "MAE: 0.7020540262073445\n",
      "MSE: 1.8844052076356945\n",
      "RMSE: 1.3727363940814328\n"
     ]
    }
   ],
   "source": [
    "print('MAE:', metrics.mean_absolute_error(y_test, pred))\n",
    "print('MSE:', metrics.mean_squared_error(y_test, pred))\n",
    "print('RMSE:', np.sqrt(metrics.mean_squared_error(y_test, pred)))"
   ]
  },
  {
   "cell_type": "code",
   "execution_count": 262,
   "metadata": {},
   "outputs": [],
   "source": [
    "import pickle\n",
    "file = open('r_forest_regress_model.pkl', 'wb')\n",
    "pickle.dump(rf_rcv, file)#store info to that file"
   ]
  },
  {
   "cell_type": "code",
   "execution_count": null,
   "metadata": {},
   "outputs": [],
   "source": []
  }
 ],
 "metadata": {
  "kernelspec": {
   "display_name": "Python 3",
   "language": "python",
   "name": "python3"
  },
  "language_info": {
   "codemirror_mode": {
    "name": "ipython",
    "version": 3
   },
   "file_extension": ".py",
   "mimetype": "text/x-python",
   "name": "python",
   "nbconvert_exporter": "python",
   "pygments_lexer": "ipython3",
   "version": "3.7.7"
  }
 },
 "nbformat": 4,
 "nbformat_minor": 4
}
